{
 "cells": [
  {
   "cell_type": "code",
   "execution_count": null,
   "metadata": {},
   "outputs": [
    {
     "name": "stdout",
     "output_type": "stream",
     "text": [
      "48 49\n",
      "49 49\n",
      "49 49\n",
      "48 49\n",
      "49 49\n",
      "48 49\n",
      "48 49\n",
      "48 49\n",
      "48 49\n",
      "48 49\n",
      "48 49\n",
      "48 49\n",
      "48 49\n",
      "48 49\n",
      "48 49\n",
      "48 48\n",
      "48 48\n",
      "48 48\n",
      "48 48\n",
      "48 48\n",
      "48 48\n",
      "48 48\n",
      "48 48\n",
      "48 48\n",
      "48 48\n",
      "48 48\n",
      "49 48\n",
      "49 48\n",
      "49 48\n",
      "48 48\n",
      "48 48\n",
      "49 48\n",
      "49 48\n",
      "49 48\n",
      "49 48\n",
      "49 48\n",
      "49 48\n",
      "49 48\n",
      "49 48\n",
      "49 48\n",
      "48 48\n",
      "48 48\n",
      "48 48\n",
      "48 48\n",
      "48 48\n",
      "48 48\n",
      "48 48\n",
      "48 48\n",
      "48 48\n",
      "49 48\n",
      "48 48\n",
      "49 48\n",
      "49 48\n",
      "49 48\n",
      "48 48\n",
      "48 48\n",
      "49 48\n"
     ]
    }
   ],
   "source": [
    "import serial\n",
    "import pyautogui\n",
    "ser=serial.Serial('com11',9600)\n",
    "while 1:\n",
    "    k=ser.read(8)\n",
    "    cursor=k[:6]\n",
    "    click=k[6:]\n",
    "    x=cursor[:3]\n",
    "    y=cursor[3:]\n",
    "    l=click[0]\n",
    "    r=click[1]\n",
    "    xcor=int(x.decode('utf-8'))\n",
    "    ycor=int(y.decode('utf-8'))\n",
    "#     pyautogui.moveTo(xcor,ycor)\n",
    "    if l==49:\n",
    "        pyautogui.click(clicks=2)\n",
    "    elif r==49:\n",
    "        pyautogui.click(button='right', clicks=2)\n",
    "    print(l,r)"
   ]
  },
  {
   "cell_type": "code",
   "execution_count": null,
   "metadata": {},
   "outputs": [],
   "source": [
    "!pip install pyserial"
   ]
  },
  {
   "cell_type": "code",
   "execution_count": null,
   "metadata": {},
   "outputs": [],
   "source": []
  }
 ],
 "metadata": {
  "kernelspec": {
   "display_name": "Python 3",
   "language": "python",
   "name": "python3"
  },
  "language_info": {
   "codemirror_mode": {
    "name": "ipython",
    "version": 3
   },
   "file_extension": ".py",
   "mimetype": "text/x-python",
   "name": "python",
   "nbconvert_exporter": "python",
   "pygments_lexer": "ipython3",
   "version": "3.8.6"
  }
 },
 "nbformat": 4,
 "nbformat_minor": 4
}
